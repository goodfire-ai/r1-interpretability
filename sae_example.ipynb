{
 "cells": [
  {
   "cell_type": "code",
   "execution_count": 1,
   "metadata": {},
   "outputs": [
    {
     "name": "stdout",
     "output_type": "stream",
     "text": [
      "Requirement already satisfied: torch in ./.venv/lib/python3.10/site-packages (2.6.0)\n",
      "Requirement already satisfied: filelock in ./.venv/lib/python3.10/site-packages (from torch) (3.18.0)\n",
      "Requirement already satisfied: typing-extensions>=4.10.0 in ./.venv/lib/python3.10/site-packages (from torch) (4.13.2)\n",
      "Requirement already satisfied: networkx in ./.venv/lib/python3.10/site-packages (from torch) (3.4.2)\n",
      "Requirement already satisfied: jinja2 in ./.venv/lib/python3.10/site-packages (from torch) (3.1.6)\n",
      "Requirement already satisfied: fsspec in ./.venv/lib/python3.10/site-packages (from torch) (2025.3.2)\n",
      "Requirement already satisfied: nvidia-cuda-nvrtc-cu12==12.4.127 in ./.venv/lib/python3.10/site-packages (from torch) (12.4.127)\n",
      "Requirement already satisfied: nvidia-cuda-runtime-cu12==12.4.127 in ./.venv/lib/python3.10/site-packages (from torch) (12.4.127)\n",
      "Requirement already satisfied: nvidia-cuda-cupti-cu12==12.4.127 in ./.venv/lib/python3.10/site-packages (from torch) (12.4.127)\n",
      "Requirement already satisfied: nvidia-cudnn-cu12==9.1.0.70 in ./.venv/lib/python3.10/site-packages (from torch) (9.1.0.70)\n",
      "Requirement already satisfied: nvidia-cublas-cu12==12.4.5.8 in ./.venv/lib/python3.10/site-packages (from torch) (12.4.5.8)\n",
      "Requirement already satisfied: nvidia-cufft-cu12==11.2.1.3 in ./.venv/lib/python3.10/site-packages (from torch) (11.2.1.3)\n",
      "Requirement already satisfied: nvidia-curand-cu12==10.3.5.147 in ./.venv/lib/python3.10/site-packages (from torch) (10.3.5.147)\n",
      "Requirement already satisfied: nvidia-cusolver-cu12==11.6.1.9 in ./.venv/lib/python3.10/site-packages (from torch) (11.6.1.9)\n",
      "Requirement already satisfied: nvidia-cusparse-cu12==12.3.1.170 in ./.venv/lib/python3.10/site-packages (from torch) (12.3.1.170)\n",
      "Requirement already satisfied: nvidia-cusparselt-cu12==0.6.2 in ./.venv/lib/python3.10/site-packages (from torch) (0.6.2)\n",
      "Requirement already satisfied: nvidia-nccl-cu12==2.21.5 in ./.venv/lib/python3.10/site-packages (from torch) (2.21.5)\n",
      "Requirement already satisfied: nvidia-nvtx-cu12==12.4.127 in ./.venv/lib/python3.10/site-packages (from torch) (12.4.127)\n",
      "Requirement already satisfied: nvidia-nvjitlink-cu12==12.4.127 in ./.venv/lib/python3.10/site-packages (from torch) (12.4.127)\n",
      "Requirement already satisfied: triton==3.2.0 in ./.venv/lib/python3.10/site-packages (from torch) (3.2.0)\n",
      "Requirement already satisfied: sympy==1.13.1 in ./.venv/lib/python3.10/site-packages (from torch) (1.13.1)\n",
      "Requirement already satisfied: mpmath<1.4,>=1.1.0 in ./.venv/lib/python3.10/site-packages (from sympy==1.13.1->torch) (1.3.0)\n",
      "Requirement already satisfied: MarkupSafe>=2.0 in ./.venv/lib/python3.10/site-packages (from jinja2->torch) (3.0.2)\n",
      "Requirement already satisfied: huggingface_hub in ./.venv/lib/python3.10/site-packages (0.30.2)\n",
      "Requirement already satisfied: filelock in ./.venv/lib/python3.10/site-packages (from huggingface_hub) (3.18.0)\n",
      "Requirement already satisfied: fsspec>=2023.5.0 in ./.venv/lib/python3.10/site-packages (from huggingface_hub) (2025.3.2)\n",
      "Requirement already satisfied: packaging>=20.9 in ./.venv/lib/python3.10/site-packages (from huggingface_hub) (24.2)\n",
      "Requirement already satisfied: pyyaml>=5.1 in ./.venv/lib/python3.10/site-packages (from huggingface_hub) (6.0.2)\n",
      "Requirement already satisfied: requests in ./.venv/lib/python3.10/site-packages (from huggingface_hub) (2.32.3)\n",
      "Requirement already satisfied: tqdm>=4.42.1 in ./.venv/lib/python3.10/site-packages (from huggingface_hub) (4.67.1)\n",
      "Requirement already satisfied: typing-extensions>=3.7.4.3 in ./.venv/lib/python3.10/site-packages (from huggingface_hub) (4.13.2)\n",
      "Requirement already satisfied: charset-normalizer<4,>=2 in ./.venv/lib/python3.10/site-packages (from requests->huggingface_hub) (3.4.1)\n",
      "Requirement already satisfied: idna<4,>=2.5 in ./.venv/lib/python3.10/site-packages (from requests->huggingface_hub) (3.10)\n",
      "Requirement already satisfied: urllib3<3,>=1.21.1 in ./.venv/lib/python3.10/site-packages (from requests->huggingface_hub) (2.4.0)\n",
      "Requirement already satisfied: certifi>=2017.4.17 in ./.venv/lib/python3.10/site-packages (from requests->huggingface_hub) (2025.1.31)\n"
     ]
    }
   ],
   "source": [
    "!pip install torch\n",
    "!pip install huggingface_hub\n"
   ]
  },
  {
   "cell_type": "code",
   "execution_count": 2,
   "metadata": {},
   "outputs": [
    {
     "name": "stderr",
     "output_type": "stream",
     "text": [
      "/mnt/polished-lake/home/maxsloef/r1-interpretability/.venv/lib/python3.10/site-packages/torch/_subclasses/functional_tensor.py:275: UserWarning: Failed to initialize NumPy: No module named 'numpy' (Triggered internally at /pytorch/torch/csrc/utils/tensor_numpy.cpp:81.)\n",
      "  cpu = _conversion_method_template(device=torch.device(\"cpu\"))\n",
      "/mnt/polished-lake/home/maxsloef/r1-interpretability/.venv/lib/python3.10/site-packages/tqdm/auto.py:21: TqdmWarning: IProgress not found. Please update jupyter and ipywidgets. See https://ipywidgets.readthedocs.io/en/stable/user_install.html\n",
      "  from .autonotebook import tqdm as notebook_tqdm\n"
     ]
    }
   ],
   "source": [
    "from sae import load_logic_sae, load_math_sae\n",
    "from huggingface_hub import hf_hub_download\n",
    "import torch\n",
    "\n",
    "logic_file_path = hf_hub_download(\n",
    "    repo_id=f\"Goodfire/DeepSeek-R1-SAE-l37\",\n",
    "    filename=f\"logic/DeepSeek-R1-SAE-l37.pt\",\n",
    "    repo_type=\"model\"\n",
    ")\n",
    "\n",
    "math_file_path = hf_hub_download(\n",
    "    repo_id=f\"Goodfire/DeepSeek-R1-SAE-l37\",\n",
    "    filename=f\"math/DeepSeek-R1-SAE-l37.pt\",\n",
    "    repo_type=\"model\"\n",
    ")\n",
    "\n",
    "device = \"cpu\"\n",
    "logic_sae = load_logic_sae(logic_file_path, device)\n",
    "math_sae = load_math_sae(math_file_path, device)"
   ]
  },
  {
   "cell_type": "code",
   "execution_count": 3,
   "metadata": {},
   "outputs": [],
   "source": [
    "acts = torch.load('sample_acts.pt')"
   ]
  },
  {
   "cell_type": "code",
   "execution_count": 4,
   "metadata": {},
   "outputs": [
    {
     "name": "stdout",
     "output_type": "stream",
     "text": [
      "Logic feat 0: 26850, Value: 2.4509081840515137\n",
      "Logic feat 1: 14306, Value: 1.3170076608657837\n",
      "Logic feat 2: 24913, Value: 1.086856484413147\n",
      "Logic feat 3: 11430, Value: 1.019200325012207\n",
      "Logic feat 4: 11884, Value: 0.9163748025894165\n",
      "Logic feat 5: 18632, Value: 0.742527961730957\n",
      "Logic feat 6: 5205, Value: 0.5360071659088135\n",
      "Logic feat 7: 17394, Value: 0.32577264308929443\n",
      "Logic feat 8: 16129, Value: 0.3076817989349365\n",
      "Logic feat 9: 13864, Value: 0.281972199678421\n",
      "\n",
      "Math feat 0: 7464, Value: 1.1171875\n",
      "Math feat 1: 3477, Value: 0.796875\n",
      "Math feat 2: 15072, Value: 0.75\n",
      "Math feat 3: 21848, Value: 0.73046875\n",
      "Math feat 4: 4672, Value: 0.6484375\n",
      "Math feat 5: 22456, Value: 0.58984375\n",
      "Math feat 6: 14579, Value: 0.5390625\n",
      "Math feat 7: 16269, Value: 0.5078125\n",
      "Math feat 8: 4041, Value: 0.48828125\n",
      "Math feat 9: 4002, Value: 0.48046875\n"
     ]
    }
   ],
   "source": [
    "act_idx = 42\n",
    "\n",
    "logic_feats = logic_sae.encode(acts[act_idx])\n",
    "math_feats = math_sae.encode(acts[act_idx])\n",
    "\n",
    "# get top 10 feats by act strength\n",
    "top_10_logic = torch.argsort(logic_feats, descending=True)[:10]\n",
    "top_10_math = torch.argsort(math_feats, descending=True)[:10]\n",
    "\n",
    "# print the top 10 features\n",
    "for i in range(10):\n",
    "    print(f\"Logic feat {i}: {top_10_logic[i]}, Value: {logic_feats[top_10_logic[i]]}\")\n",
    "\n",
    "print()\n",
    "for i in range(10):\n",
    "    print(f\"Math feat {i}: {top_10_math[i]}, Value: {math_feats[top_10_math[i]]}\")"
   ]
  }
 ],
 "metadata": {
  "kernelspec": {
   "display_name": ".venv",
   "language": "python",
   "name": "python3"
  },
  "language_info": {
   "codemirror_mode": {
    "name": "ipython",
    "version": 3
   },
   "file_extension": ".py",
   "mimetype": "text/x-python",
   "name": "python",
   "nbconvert_exporter": "python",
   "pygments_lexer": "ipython3",
   "version": "3.10.12"
  }
 },
 "nbformat": 4,
 "nbformat_minor": 2
}
