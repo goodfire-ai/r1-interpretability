{
 "cells": [
  {
   "cell_type": "code",
   "execution_count": 1,
   "metadata": {},
   "outputs": [],
   "source": [
    "import duckdb\n",
    "from pathlib import Path\n",
    "\n",
    "# Load the autointerp database in duckdb\n",
    "autointerp_path = Path(\"/mnt/polished-lake/autointerp/r1-logic/autointerp.db\").expanduser()\n",
    "ddb_conn = duckdb.connect(autointerp_path, read_only=True)\n",
    "ddb_conn.execute(\"SET sqlite_all_varchar=true\") # for sqlite type compatibility\n",
    "\n",
    "# convenience function for running queries\n",
    "def run_query(query: str, ddb_conn: duckdb.DuckDBPyConnection):\n",
    "    res = ddb_conn.execute(query)\n",
    "\n",
    "    column_names = [desc[0] for desc in res.description]\n",
    "    data = [dict(zip(column_names, row)) for row in res.fetchall()]\n",
    "    return data"
   ]
  },
  {
   "cell_type": "code",
   "execution_count": 2,
   "metadata": {},
   "outputs": [
    {
     "name": "stdout",
     "output_type": "stream",
     "text": [
      "Autointerp database example row:\n"
     ]
    },
    {
     "data": {
      "application/vnd.jupyter.widget-view+json": {
       "model_id": "4b3b3b393c2c494c90cda53f205bdbc2",
       "version_major": 2,
       "version_minor": 0
      },
      "text/plain": [
       "FloatProgress(value=0.0, layout=Layout(width='auto'), style=ProgressStyle(bar_color='black'))"
      ]
     },
     "metadata": {},
     "output_type": "display_data"
    },
    {
     "name": "stdout",
     "output_type": "stream",
     "text": [
      "feature_id: 0\n",
      "label: Cycles in graphs and algorithms\n",
      "seqs: []\n",
      "indices: []\n",
      "quality: 0.9\n",
      "interestingness: 0.6\n",
      "model_name: claude-3-7-sonnet-latest\n",
      "prompt_version: v0-dev\n"
     ]
    }
   ],
   "source": [
    "print('Autointerp database example row:')\n",
    "example = run_query(\"SELECT * FROM autointerp limit 1\", ddb_conn)[0]\n",
    "\n",
    "for col_name, col_value in example.items():\n",
    "    print(f'{col_name}: {col_value}')"
   ]
  },
  {
   "cell_type": "code",
   "execution_count": 3,
   "metadata": {},
   "outputs": [
    {
     "name": "stdout",
     "output_type": "stream",
     "text": [
      "0: Cycles in graphs and algorithms\n",
      "1: Sorting collections and processing sorted data\n",
      "3: Competitive programming input specification\n",
      "5: Algorithm optimization\n",
      "6: searching for a specific instance or solution\n",
      "7: Prepositions indicating origin or source\n",
      "8: Initializing variables to zero in programming\n",
      "9: Mathematical calculation and numerical reasoning\n",
      "10: Recognizing computational complexity limitations\n",
      "11: Once a solution is found, transition to the next step\n"
     ]
    }
   ],
   "source": [
    "# print 10 feature labels\n",
    "query = \"SELECT feature_id, label FROM autointerp limit 10\"\n",
    "results = run_query(query, ddb_conn)\n",
    "\n",
    "for row in results:\n",
    "    print(f'{row[\"feature_id\"]}: {row[\"label\"]}')"
   ]
  },
  {
   "cell_type": "code",
   "execution_count": 4,
   "metadata": {},
   "outputs": [
    {
     "data": {
      "text/plain": [
       "<duckdb.duckdb.DuckDBPyConnection at 0x7c6b10693db0>"
      ]
     },
     "execution_count": 4,
     "metadata": {},
     "output_type": "execute_result"
    }
   ],
   "source": [
    "# attach the tokens db\n",
    "ddb_conn.execute(\"ATTACH '/mnt/polished-lake/autointerp/r1-logic/tokens.db'\")"
   ]
  },
  {
   "cell_type": "code",
   "execution_count": 6,
   "metadata": {},
   "outputs": [
    {
     "name": "stdout",
     "output_type": "stream",
     "text": [
      "Tokens database example row:\n"
     ]
    }
   ],
   "source": [
    "print('Tokens database example row:')\n",
    "example = run_query(\"SELECT * FROM tokens.tokens limit 1\", ddb_conn)[0]\n",
    "\n",
    "for col_name, col_value in example.items():\n",
    "    print(f'{col_name}: {col_value}')"
   ]
  },
  {
   "cell_type": "code",
   "execution_count": 7,
   "metadata": {},
   "outputs": [
    {
     "data": {
      "text/plain": [
       "<duckdb.duckdb.DuckDBPyConnection at 0x7bfc33739a70>"
      ]
     },
     "execution_count": 7,
     "metadata": {},
     "output_type": "execute_result"
    }
   ],
   "source": [
    "# attach the SAE latent activations db\n",
    "ddb_conn.execute(\"ATTACH '/mnt/polished-lake/autointerp/r1-logic/feature_activations.db'\")"
   ]
  },
  {
   "cell_type": "code",
   "execution_count": null,
   "metadata": {},
   "outputs": [
    {
     "name": "stdout",
     "output_type": "stream",
     "text": [
      "SAE latent activations example row:\n"
     ]
    }
   ],
   "source": [
    "print('SAE latent activations example row:')\n",
    "example = run_query(\"SELECT * FROM feature_activations.activations limit 1\", ddb_conn)[0]\n",
    "\n",
    "for col_name, col_value in example.items():\n",
    "    print(f'{col_name}: {col_value}')"
   ]
  },
  {
   "cell_type": "code",
   "execution_count": null,
   "metadata": {},
   "outputs": [],
   "source": [
    "query = \"\"\"\n",
    "SELECT\n",
    "    autointerp.feature_id,\n",
    "    autointerp.label,\n",
    "    acts.strength,\n",
    "    tokens.decoded_token\n",
    "FROM\n",
    "    autointerp\n",
    "JOIN\n",
    "    feature_activations.activations acts ON autointerp.feature_id = acts.feature_id\n",
    "JOIN\n",
    "    tokens.tokens tokens ON acts.token_idx = tokens.token_idx\n",
    "WHERE\n",
    "    autointerp.feature_id = 11\n",
    "ORDER BY\n",
    "    acts.strength DESC\n",
    "LIMIT 10\n",
    "\"\"\"\n",
    "results = run_query(query, ddb_conn)\n",
    "\n",
    "print(f'{results[0][\"feature_id\"]}: {results[0][\"label\"]}')\n",
    "for row in results:\n",
    "    print(f'{row[\"decoded_token\"]}: {row[\"strength\"]}')"
   ]
  }
 ],
 "metadata": {
  "kernelspec": {
   "display_name": "research-bAMRr1O5-py3.10",
   "language": "python",
   "name": "python3"
  },
  "language_info": {
   "codemirror_mode": {
    "name": "ipython",
    "version": 3
   },
   "file_extension": ".py",
   "mimetype": "text/x-python",
   "name": "python",
   "nbconvert_exporter": "python",
   "pygments_lexer": "ipython3",
   "version": "3.10.12"
  }
 },
 "nbformat": 4,
 "nbformat_minor": 2
}
