{
 "cells": [
  {
   "cell_type": "code",
   "execution_count": 1,
   "metadata": {},
   "outputs": [],
   "source": [
    "import sqlite3\n",
    "from pathlib import Path\n",
    "from collections import defaultdict\n",
    "\n",
    "# Load the autointerp database in sqlite\n",
    "autointerp_path = Path(\"~/autointerp/r1-logic/autointerp.db\").expanduser()\n",
    "conn = sqlite3.connect(\"file:\" + autointerp_path.as_posix() + \"?mode=ro\", uri=True) # URI mode for read-only access\n",
    "\n",
    "# convenience function for running queries\n",
    "def run_query(query: str, conn: sqlite3.Connection):\n",
    "    res = conn.execute(query)\n",
    "\n",
    "    column_names = [desc[0] for desc in res.description]\n",
    "    data = [dict(zip(column_names, row)) for row in res.fetchall()]\n",
    "    return data"
   ]
  },
  {
   "cell_type": "code",
   "execution_count": 2,
   "metadata": {},
   "outputs": [
    {
     "name": "stdout",
     "output_type": "stream",
     "text": [
      "Autointerp database example row:\n",
      "feature_id: 0\n",
      "label: Cycles in graphs and algorithms\n",
      "seqs: []\n",
      "indices: []\n",
      "quality: 0.9\n",
      "interestingness: 0.6\n",
      "model_name: claude-3-7-sonnet-latest\n",
      "prompt_version: v0-dev\n"
     ]
    }
   ],
   "source": [
    "print('Autointerp database example row:')\n",
    "example = run_query(\"SELECT * FROM autointerp limit 1\", conn)[0]\n",
    "\n",
    "for col_name, col_value in example.items():\n",
    "    print(f'{col_name}: {col_value}')"
   ]
  },
  {
   "cell_type": "code",
   "execution_count": 3,
   "metadata": {},
   "outputs": [
    {
     "name": "stdout",
     "output_type": "stream",
     "text": [
      "0: Cycles in graphs and algorithms\n",
      "1: Sorting collections and processing sorted data\n",
      "3: Competitive programming input specification\n",
      "5: Algorithm optimization\n",
      "6: searching for a specific instance or solution\n",
      "7: Prepositions indicating origin or source\n",
      "8: Initializing variables to zero in programming\n",
      "9: Mathematical calculation and numerical reasoning\n",
      "10: Recognizing computational complexity limitations\n",
      "11: Once a solution is found, transition to the next step\n"
     ]
    }
   ],
   "source": [
    "# print 10 feature labels\n",
    "query = \"SELECT feature_id, label FROM autointerp limit 10\"\n",
    "results = run_query(query, conn)\n",
    "\n",
    "for row in results:\n",
    "    print(f'{row[\"feature_id\"]}: {row[\"label\"]}')"
   ]
  },
  {
   "cell_type": "code",
   "execution_count": 4,
   "metadata": {},
   "outputs": [
    {
     "data": {
      "text/plain": [
       "<sqlite3.Cursor at 0x7600b8d703c0>"
      ]
     },
     "execution_count": 4,
     "metadata": {},
     "output_type": "execute_result"
    }
   ],
   "source": [
    "# attach the tokens db\n",
    "tokens_path = Path(\"~/autointerp/r1-logic/tokens.db\").expanduser()\n",
    "conn.execute(f\"ATTACH DATABASE '{tokens_path}' as tokens\")"
   ]
  },
  {
   "cell_type": "code",
   "execution_count": 5,
   "metadata": {},
   "outputs": [
    {
     "name": "stdout",
     "output_type": "stream",
     "text": [
      "Tokens database example row:\n",
      "sequence_id: 0\n",
      "token_idx: 0\n",
      "token_int: 0\n",
      "token_text: <｜begin▁of▁sentence｜>\n"
     ]
    }
   ],
   "source": [
    "print('Tokens database example row:')\n",
    "example = run_query(\"SELECT * FROM tokens.tokens limit 1\", conn)[0]\n",
    "\n",
    "for col_name, col_value in example.items():\n",
    "    print(f'{col_name}: {col_value}')"
   ]
  },
  {
   "cell_type": "code",
   "execution_count": 6,
   "metadata": {},
   "outputs": [
    {
     "data": {
      "text/plain": [
       "<sqlite3.Cursor at 0x7600b8d70cc0>"
      ]
     },
     "execution_count": 6,
     "metadata": {},
     "output_type": "execute_result"
    }
   ],
   "source": [
    "# attach the SAE latent activations db\n",
    "feature_activations_path = Path(\"~/autointerp/r1-logic/feature_activations.db\").expanduser()\n",
    "conn.execute(f\"ATTACH DATABASE '{feature_activations_path}' as feature_activations\")"
   ]
  },
  {
   "cell_type": "code",
   "execution_count": 7,
   "metadata": {},
   "outputs": [
    {
     "name": "stdout",
     "output_type": "stream",
     "text": [
      "SAE latent activations example row:\n",
      "feature_id: 0\n",
      "sequence_id: 15\n",
      "token_idx: 36\n",
      "strength: 0.2251070737838745\n"
     ]
    }
   ],
   "source": [
    "print('SAE latent activations example row:')\n",
    "example = run_query(\"SELECT * FROM feature_activations.activations limit 1\", conn)[0]\n",
    "\n",
    "for col_name, col_value in example.items():\n",
    "    print(f'{col_name}: {col_value}')"
   ]
  },
  {
   "cell_type": "code",
   "execution_count": 8,
   "metadata": {},
   "outputs": [
    {
     "name": "stdout",
     "output_type": "stream",
     "text": [
      "764: Problem-solving breakthrough confirmation\n",
      "  1.4216057062149048 : ' votes >= this threshold.\\n\\n<<Yes>>. So the steps for'\n",
      "  1.3952926397323608 : ' global_max_abs.\\n\\n<<Yes>>! Because in all cases'\n",
      "  1.3868962526321411 : 'prev+1 papers.\\n\\n<<Yes>>, that makes sense.'\n",
      "  1.3851138353347778 : ' one in that subset.\\n\\n<<Yes>>, that makes sense.'\n",
      "  1.3729127645492554 : \"'s the next one.\\n\\n<<Yes>>, that makes sense.\"\n",
      "  1.3646918535232544 : ' the split is done.\\n\\n<<Yes>>. So the split into'\n",
      "  1.3638285398483276 : ') are processed first.\\n\\n<<Yes>>, this makes sense.'\n",
      "  1.3534859418869019 : \" fit within the grid.\\n\\n<<Yes>>, that's the key\"\n",
      "  1.3534499406814575 : ' maximum of these values.\\n\\n<<Yes>>. Because for the split'\n",
      "  1.3437250852584839 : ' in this subgraph.\\n\\n<<Yes>>, this seems manageable.'\n"
     ]
    }
   ],
   "source": [
    "# Here, we will join tables to get the top k activations for a given feature, then print the subsequences around those activations\n",
    "\n",
    "TOP_K_SEQ = 10\n",
    "FEATURE_ID = 764\n",
    "SEQUENCE_WINDOW = 10\n",
    "\n",
    "query = f\"\"\"\n",
    "with subsequences as (\n",
    "    with top_acts as (\n",
    "        SELECT\n",
    "            autointerp.feature_id,\n",
    "            autointerp.label,\n",
    "            acts.sequence_id,\n",
    "            acts.token_idx,\n",
    "            acts.strength\n",
    "        FROM\n",
    "            autointerp\n",
    "        JOIN\n",
    "            feature_activations.activations acts ON autointerp.feature_id = acts.feature_id\n",
    "        WHERE\n",
    "            autointerp.feature_id = {FEATURE_ID}\n",
    "        ORDER BY\n",
    "            acts.strength DESC\n",
    "        LIMIT {TOP_K_SEQ}\n",
    "    )\n",
    "\n",
    "    SELECT\n",
    "        top_acts.feature_id,\n",
    "        top_acts.label,\n",
    "        top_acts.sequence_id,\n",
    "        top_acts.token_idx as top_act_token_idx,\n",
    "        top_acts.strength,\n",
    "        tokens.token_idx as token_idx,\n",
    "        tokens.token_text\n",
    "    FROM\n",
    "        tokens.tokens as tokens\n",
    "    join\n",
    "        top_acts on tokens.sequence_id = top_acts.sequence_id\n",
    "    where\n",
    "        abs(tokens.token_idx - top_acts.token_idx) <= {SEQUENCE_WINDOW//2}\n",
    ")\n",
    "\n",
    "SELECT\n",
    "    *\n",
    "FROM\n",
    "    subsequences\n",
    "\"\"\"\n",
    "\n",
    "results = run_query(query, conn)\n",
    "\n",
    "subsequences = {}\n",
    "\n",
    "for row in results:\n",
    "    feat_id = row[\"feature_id\"]\n",
    "    seq_id = row[\"sequence_id\"]\n",
    "\n",
    "    if subsequences.get(feat_id) is None:\n",
    "        subsequences[feat_id] = {}\n",
    "        subsequences[feat_id][\"label\"] = row[\"label\"]\n",
    "        subsequences[feat_id][\"subsequences\"] = {}\n",
    "\n",
    "    if subsequences[feat_id][\"subsequences\"].get(seq_id) is None:\n",
    "        subsequences[feat_id][\"subsequences\"][seq_id] = {}\n",
    "        subsequences[feat_id][\"subsequences\"][seq_id][\"top_idx\"] = row[\"top_act_token_idx\"]\n",
    "        subsequences[feat_id][\"subsequences\"][seq_id][\"top_strength\"] = row[\"strength\"]\n",
    "        subsequences[feat_id][\"subsequences\"][seq_id][\"tokens\"] = {}\n",
    "\n",
    "    subsequences[feat_id][\"subsequences\"][seq_id][\"tokens\"][row[\"token_idx\"]] = row[\"token_text\"]\n",
    "    \n",
    "\n",
    "for feat_id, feat_data in subsequences.items():\n",
    "    print(f'{feat_id}: {feat_data[\"label\"]}')\n",
    "\n",
    "    for seq_id, seq_data in feat_data[\"subsequences\"].items():\n",
    "        top_idx = seq_data[\"top_idx\"]\n",
    "        top_token = seq_data[\"tokens\"][top_idx]\n",
    "        top_strength = seq_data[\"top_strength\"]\n",
    "\n",
    "        ordered_tokens = sorted(seq_data[\"tokens\"].items(), key=lambda x: x[0])\n",
    "\n",
    "        before_top = [token[1] for token in ordered_tokens if token[0] < top_idx]\n",
    "        after_top = [token[1] for token in ordered_tokens if token[0] > top_idx]\n",
    "\n",
    "        subsequence = repr(''.join(before_top + [ \"<<\" + top_token + \">>\" ] + after_top))\n",
    "\n",
    "        print(f'  {top_strength} : {subsequence}')"
   ]
  }
 ],
 "metadata": {
  "kernelspec": {
   "display_name": "research-bAMRr1O5-py3.10",
   "language": "python",
   "name": "python3"
  },
  "language_info": {
   "codemirror_mode": {
    "name": "ipython",
    "version": 3
   },
   "file_extension": ".py",
   "mimetype": "text/x-python",
   "name": "python",
   "nbconvert_exporter": "python",
   "pygments_lexer": "ipython3",
   "version": "3.10.12"
  }
 },
 "nbformat": 4,
 "nbformat_minor": 2
}
