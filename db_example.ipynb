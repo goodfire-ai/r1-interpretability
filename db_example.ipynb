{
 "cells": [
  {
   "cell_type": "code",
   "execution_count": 1,
   "metadata": {},
   "outputs": [],
   "source": [
    "import duckdb\n",
    "from pathlib import Path\n",
    "\n",
    "# Load the autointerp database in sqlite\n",
    "autointerp_path = Path(\"~/autointerp/r1-logic/autointerp.db\").expanduser()\n",
    "conn = duckdb.connect(autointerp_path, read_only=True)\n",
    "conn.execute(\"SET sqlite_all_varchar=true\")\n",
    "\n",
    "# convenience function for running queries\n",
    "def run_query(query: str, conn: duckdb.DuckDBPyConnection):\n",
    "    res = conn.execute(query)\n",
    "\n",
    "    column_names = [desc[0] for desc in res.description]\n",
    "    data = [dict(zip(column_names, row)) for row in res.fetchall()]\n",
    "    return data"
   ]
  },
  {
   "cell_type": "code",
   "execution_count": 2,
   "metadata": {},
   "outputs": [
    {
     "name": "stdout",
     "output_type": "stream",
     "text": [
      "Autointerp database example row:\n",
      "feature_id: 0\n",
      "label: Cycles in graphs and algorithms\n",
      "seqs: []\n",
      "indices: []\n",
      "quality: 0.9\n",
      "interestingness: 0.6\n",
      "model_name: claude-3-7-sonnet-latest\n",
      "prompt_version: v0-dev\n"
     ]
    }
   ],
   "source": [
    "print('Autointerp database example row:')\n",
    "example = run_query(\"SELECT * FROM autointerp limit 1\", conn)[0]\n",
    "\n",
    "for col_name, col_value in example.items():\n",
    "    print(f'{col_name}: {col_value}')"
   ]
  },
  {
   "cell_type": "code",
   "execution_count": 3,
   "metadata": {},
   "outputs": [
    {
     "name": "stdout",
     "output_type": "stream",
     "text": [
      "0: Cycles in graphs and algorithms\n",
      "1: Sorting collections and processing sorted data\n",
      "3: Competitive programming input specification\n",
      "5: Algorithm optimization\n",
      "6: searching for a specific instance or solution\n",
      "7: Prepositions indicating origin or source\n",
      "8: Initializing variables to zero in programming\n",
      "9: Mathematical calculation and numerical reasoning\n",
      "10: Recognizing computational complexity limitations\n",
      "11: Once a solution is found, transition to the next step\n"
     ]
    }
   ],
   "source": [
    "# print 10 feature labels\n",
    "query = \"SELECT feature_id, label FROM autointerp limit 10\"\n",
    "results = run_query(query, conn)\n",
    "\n",
    "for row in results:\n",
    "    print(f'{row[\"feature_id\"]}: {row[\"label\"]}')"
   ]
  },
  {
   "cell_type": "code",
   "execution_count": 4,
   "metadata": {},
   "outputs": [
    {
     "data": {
      "text/plain": [
       "<duckdb.duckdb.DuckDBPyConnection at 0x765194779130>"
      ]
     },
     "execution_count": 4,
     "metadata": {},
     "output_type": "execute_result"
    }
   ],
   "source": [
    "# attach the tokens db\n",
    "dataset_path = Path(\"~/logic-1.ddb\").expanduser()\n",
    "conn.execute(f\"ATTACH DATABASE '{dataset_path}' as ds\")"
   ]
  },
  {
   "cell_type": "code",
   "execution_count": 5,
   "metadata": {},
   "outputs": [
    {
     "name": "stdout",
     "output_type": "stream",
     "text": [
      "Tokens database example row:\n",
      "sequence_id: 0\n",
      "token_idx: 0\n",
      "token: 0\n",
      "decoded_token: <｜begin▁of▁sentence｜>\n"
     ]
    }
   ],
   "source": [
    "print('Tokens database example row:')\n",
    "example = run_query(\"SELECT * FROM ds.tokens limit 1\", conn)[0]\n",
    "\n",
    "for col_name, col_value in example.items():\n",
    "    print(f'{col_name}: {col_value}')"
   ]
  },
  {
   "cell_type": "code",
   "execution_count": 6,
   "metadata": {},
   "outputs": [
    {
     "name": "stdout",
     "output_type": "stream",
     "text": [
      "SAE latent activations example row:\n",
      "feature_id: 3\n",
      "sequence_id: 0\n",
      "token_idx: 0\n",
      "strength: 0.20472130179405212\n"
     ]
    }
   ],
   "source": [
    "print('SAE latent activations example row:')\n",
    "example = run_query(\"SELECT * FROM ds.activations limit 1\", conn)[0]\n",
    "\n",
    "for col_name, col_value in example.items():\n",
    "    print(f'{col_name}: {col_value}')"
   ]
  },
  {
   "cell_type": "code",
   "execution_count": 7,
   "metadata": {},
   "outputs": [
    {
     "name": "stdout",
     "output_type": "stream",
     "text": [
      "764: Problem-solving breakthrough confirmation\n",
      "  1.016119360923767 : ' surviving edges ].\\n\\nYes<<!>> Because for any forest,'\n",
      "  1.120764970779419 : ' what we need.\\n\\nYes<<!>> So this model captures the'\n",
      "  1.0652724504470825 : ' k-th one.\\n\\nYes<<!>> This seems promising.\\n\\nSo'\n",
      "  1.0131556987762451 : \"1) time.\\n\\nYes<<!>> Let's compute prefix_s\"\n",
      "  0.9246755838394165 : ' to the total.\\n\\nYes<<.>> So, the algorithm would'\n",
      "  0.9901113510131836 : ' pass without overlapping.\\n\\nYes<<,>> this approach would work.'\n",
      "  1.0250762701034546 : '1] accordingly.\\n\\nYes<<,>> this way, for each'\n",
      "  1.1328017711639404 : ', then proceed.\\n\\nYes<<!>> Because once the first i'\n",
      "  0.945244550704956 : ' the original lines.\\n\\nYes<<,>> so if two lines intersect'\n",
      "  1.1280906200408936 : \" floating point error.\\n\\nYes<<,>> that's a better approach\"\n"
     ]
    }
   ],
   "source": [
    "# Here, we will join tables to get the top k activations for a given feature, then print the subsequences around those activations\n",
    "\n",
    "TOP_K_SEQ = 10\n",
    "FEATURE_ID = 764\n",
    "SEQUENCE_WINDOW = 10\n",
    "\n",
    "query = f\"\"\"\n",
    "with subsequences as (\n",
    "    with top_acts as (\n",
    "        SELECT\n",
    "            autointerp.feature_id,\n",
    "            autointerp.label,\n",
    "            acts.sequence_id,\n",
    "            acts.token_idx,\n",
    "            acts.strength\n",
    "        FROM\n",
    "            autointerp\n",
    "        JOIN\n",
    "            ds.activations acts ON autointerp.feature_id = acts.feature_id\n",
    "        WHERE\n",
    "            autointerp.feature_id = {FEATURE_ID}\n",
    "        ORDER BY\n",
    "            acts.strength DESC\n",
    "        LIMIT {TOP_K_SEQ}\n",
    "    )\n",
    "\n",
    "    SELECT\n",
    "        top_acts.feature_id,\n",
    "        top_acts.label,\n",
    "        top_acts.sequence_id,\n",
    "        top_acts.token_idx as top_act_token_idx,\n",
    "        top_acts.strength,\n",
    "        tokens.token_idx as token_idx,\n",
    "        tokens.decoded_token\n",
    "    FROM\n",
    "        ds.tokens as tokens\n",
    "    join\n",
    "        top_acts on tokens.sequence_id = top_acts.sequence_id\n",
    "    where\n",
    "        abs(tokens.token_idx - top_acts.token_idx) <= {SEQUENCE_WINDOW//2}\n",
    ")\n",
    "\n",
    "SELECT\n",
    "    *\n",
    "FROM\n",
    "    subsequences\n",
    "\"\"\"\n",
    "\n",
    "results = run_query(query, conn)\n",
    "\n",
    "subsequences = {}\n",
    "\n",
    "for row in results:\n",
    "    feat_id = row[\"feature_id\"]\n",
    "    seq_id = row[\"sequence_id\"]\n",
    "\n",
    "    if subsequences.get(feat_id) is None:\n",
    "        subsequences[feat_id] = {}\n",
    "        subsequences[feat_id][\"label\"] = row[\"label\"]\n",
    "        subsequences[feat_id][\"subsequences\"] = {}\n",
    "\n",
    "    if subsequences[feat_id][\"subsequences\"].get(seq_id) is None:\n",
    "        subsequences[feat_id][\"subsequences\"][seq_id] = {}\n",
    "        subsequences[feat_id][\"subsequences\"][seq_id][\"top_idx\"] = row[\"top_act_token_idx\"]\n",
    "        subsequences[feat_id][\"subsequences\"][seq_id][\"top_strength\"] = row[\"strength\"]\n",
    "        subsequences[feat_id][\"subsequences\"][seq_id][\"tokens\"] = {}\n",
    "\n",
    "    subsequences[feat_id][\"subsequences\"][seq_id][\"tokens\"][row[\"token_idx\"]] = row[\"decoded_token\"]\n",
    "    \n",
    "\n",
    "for feat_id, feat_data in subsequences.items():\n",
    "    print(f'{feat_id}: {feat_data[\"label\"]}')\n",
    "\n",
    "    for seq_id, seq_data in feat_data[\"subsequences\"].items():\n",
    "        top_idx = seq_data[\"top_idx\"]\n",
    "        top_token = seq_data[\"tokens\"][top_idx]\n",
    "        top_strength = seq_data[\"top_strength\"]\n",
    "\n",
    "        ordered_tokens = sorted(seq_data[\"tokens\"].items(), key=lambda x: x[0])\n",
    "\n",
    "        before_top = [token[1] for token in ordered_tokens if token[0] < top_idx]\n",
    "        after_top = [token[1] for token in ordered_tokens if token[0] > top_idx]\n",
    "\n",
    "        subsequence = repr(''.join(before_top + [ \"<<\" + top_token + \">>\" ] + after_top))\n",
    "\n",
    "        print(f'  {top_strength} : {subsequence}')"
   ]
  }
 ],
 "metadata": {
  "kernelspec": {
   "display_name": ".venv",
   "language": "python",
   "name": "python3"
  },
  "language_info": {
   "codemirror_mode": {
    "name": "ipython",
    "version": 3
   },
   "file_extension": ".py",
   "mimetype": "text/x-python",
   "name": "python",
   "nbconvert_exporter": "python",
   "pygments_lexer": "ipython3",
   "version": "3.10.12"
  }
 },
 "nbformat": 4,
 "nbformat_minor": 2
}
