{
 "cells": [
  {
   "cell_type": "code",
   "execution_count": 1,
   "metadata": {},
   "outputs": [
    {
     "name": "stdout",
     "output_type": "stream",
     "text": [
      "Requirement already satisfied: duckdb in ./.venv/lib/python3.10/site-packages (1.2.2)\n"
     ]
    }
   ],
   "source": [
    "!pip install duckdb"
   ]
  },
  {
   "cell_type": "code",
   "execution_count": 2,
   "metadata": {},
   "outputs": [
    {
     "data": {
      "text/plain": [
       "(PosixPath('/mnt/polished-lake/home/maxsloef/logic-0-1.ddb'),\n",
       " <http.client.HTTPMessage at 0x7a4510598550>)"
      ]
     },
     "execution_count": 2,
     "metadata": {},
     "output_type": "execute_result"
    }
   ],
   "source": [
    "from urllib.request import urlretrieve\n",
    "from pathlib import Path\n",
    "\n",
    "autointerp_path = Path(\"~/logic-autointerp.db\").expanduser()\n",
    "dataset_path = Path(\"~/logic-0-1.ddb\").expanduser()\n",
    "\n",
    "# download the  dbs from s3\n",
    "urlretrieve('https://goodfire-r1-features.s3.us-east-1.amazonaws.com/logic/autointerp.db', autointerp_path)\n",
    "urlretrieve('https://goodfire-r1-features.s3.us-east-1.amazonaws.com/logic/logic-0-1.ddb', dataset_path)"
   ]
  },
  {
   "cell_type": "code",
   "execution_count": 3,
   "metadata": {},
   "outputs": [],
   "source": [
    "import duckdb\n",
    "\n",
    "# Load the autointerp database in sqlite\n",
    "conn = duckdb.connect(autointerp_path, read_only=True)\n",
    "\n",
    "# convenience function for running queries\n",
    "def run_query(query: str, conn: duckdb.DuckDBPyConnection):\n",
    "    res = conn.execute(query)\n",
    "\n",
    "    column_names = [desc[0] for desc in res.description]\n",
    "    data = [dict(zip(column_names, row)) for row in res.fetchall()]\n",
    "    return data"
   ]
  },
  {
   "cell_type": "code",
   "execution_count": 4,
   "metadata": {},
   "outputs": [
    {
     "name": "stdout",
     "output_type": "stream",
     "text": [
      "Autointerp database example row:\n",
      "feature_id: 0\n",
      "label: Cycles in graph theory\n",
      "quality: 0.9\n",
      "interestingness: 0.6\n",
      "model_name: claude-3-7-sonnet-latest\n",
      "prompt_version: v0-dev\n"
     ]
    }
   ],
   "source": [
    "print('Autointerp database example row:')\n",
    "example = run_query(\"SELECT * FROM autointerp limit 1\", conn)[0]\n",
    "\n",
    "for col_name, col_value in example.items():\n",
    "    print(f'{col_name}: {col_value}')"
   ]
  },
  {
   "cell_type": "code",
   "execution_count": 5,
   "metadata": {},
   "outputs": [
    {
     "name": "stdout",
     "output_type": "stream",
     "text": [
      "0: Cycles in graph theory\n",
      "1: Finding the k-th element in sorted arrays\n",
      "2: dead feature\n",
      "3: Input format specifications in competitive programming problems\n",
      "4: dead feature\n",
      "5: Dynamic programming solution planning\n",
      "6: Algorithmic problem-solving\n",
      "7: referring to locations or positions in explanations\n",
      "8: Tracking current state in algorithms\n",
      "9: Quantities and mathematical terms in problem-solving contexts\n"
     ]
    }
   ],
   "source": [
    "# print 10 feature labels\n",
    "query = \"SELECT feature_id, label FROM autointerp limit 10\"\n",
    "results = run_query(query, conn)\n",
    "\n",
    "for row in results:\n",
    "    print(f'{row[\"feature_id\"]}: {row[\"label\"]}')"
   ]
  },
  {
   "cell_type": "code",
   "execution_count": 6,
   "metadata": {},
   "outputs": [
    {
     "data": {
      "text/plain": [
       "<duckdb.duckdb.DuckDBPyConnection at 0x7a45105b0930>"
      ]
     },
     "execution_count": 6,
     "metadata": {},
     "output_type": "execute_result"
    }
   ],
   "source": [
    "# attach the tokens db\n",
    "conn.execute(f\"ATTACH DATABASE '{dataset_path}' as ds\")"
   ]
  },
  {
   "cell_type": "code",
   "execution_count": 7,
   "metadata": {},
   "outputs": [
    {
     "name": "stdout",
     "output_type": "stream",
     "text": [
      "Tokens database example row:\n",
      "sequence_id: 0\n",
      "token_idx: 0\n",
      "token: 0\n",
      "decoded_token: <｜begin▁of▁sentence｜>\n"
     ]
    }
   ],
   "source": [
    "print('Tokens database example row:')\n",
    "example = run_query(\"SELECT * FROM ds.tokens limit 1\", conn)[0]\n",
    "\n",
    "for col_name, col_value in example.items():\n",
    "    print(f'{col_name}: {col_value}')"
   ]
  },
  {
   "cell_type": "code",
   "execution_count": 8,
   "metadata": {},
   "outputs": [
    {
     "name": "stdout",
     "output_type": "stream",
     "text": [
      "SAE latent activations example row:\n",
      "feature_id: 3\n",
      "sequence_id: 0\n",
      "token_idx: 0\n",
      "strength: 0.20472130179405212\n"
     ]
    }
   ],
   "source": [
    "print('SAE latent activations example row:')\n",
    "example = run_query(\"SELECT * FROM ds.activations limit 1\", conn)[0]\n",
    "\n",
    "for col_name, col_value in example.items():\n",
    "    print(f'{col_name}: {col_value}')"
   ]
  },
  {
   "cell_type": "code",
   "execution_count": 9,
   "metadata": {},
   "outputs": [
    {
     "name": "stdout",
     "output_type": "stream",
     "text": [
      "20: Thought transition markers in reasoning\n",
      "  0.6403554677963257 : '\\n\\nprint(max_area)\\n\\n<<Yes>>, this should work.\\n\\n'\n",
      "  0.21712636947631836 : \"1\\nprint(result)\\n\\n<<That>>'s all. I think\"\n",
      "  0.3055551052093506 : \" 'apple', s))\\n\\n<<This>> should handle all cases where\"\n",
      "  0.7282431125640869 : '()\\n\\nprint(\"YES\")\\n\\n<<Wait>>, but the sample input'\n",
      "  0.7797724008560181 : '}\".format(sum_result))\\n\\n<<But>> wait, in Python,'\n",
      "  0.5132467746734619 : '(str, post_order)))\\n\\n<<But>> this code is not correct'\n",
      "  0.25801903009414673 : '            print(\"NO\")\\n\\n<<But>> wait, let\\'s test'\n",
      "  0.6738934516906738 : ' global_max - n)\\n\\n<<But>> wait, for x='\n",
      "  0.35298389196395874 : \"\\n    print(total)\\n\\nWait, that's it?2\\nprint(total)\\n\\n<<Yes>>. That should do it\"\n"
     ]
    }
   ],
   "source": [
    "# Here, we will join tables to get the top k activations for a given feature, then print the subsequences around those activations\n",
    "\n",
    "TOP_K_SEQ = 10\n",
    "FEATURE_ID = 20\n",
    "SEQUENCE_WINDOW = 10\n",
    "\n",
    "query = f\"\"\"\n",
    "with subsequences as (\n",
    "    with top_acts as (\n",
    "        SELECT\n",
    "            autointerp.feature_id,\n",
    "            autointerp.label,\n",
    "            acts.sequence_id,\n",
    "            acts.token_idx,\n",
    "            acts.strength\n",
    "        FROM\n",
    "            autointerp\n",
    "        JOIN\n",
    "            ds.activations acts ON autointerp.feature_id = acts.feature_id\n",
    "        WHERE\n",
    "            autointerp.feature_id = {FEATURE_ID}\n",
    "        ORDER BY\n",
    "            acts.strength DESC\n",
    "        LIMIT {TOP_K_SEQ}\n",
    "    )\n",
    "\n",
    "    SELECT\n",
    "        top_acts.feature_id,\n",
    "        top_acts.label,\n",
    "        top_acts.sequence_id,\n",
    "        top_acts.token_idx as top_act_token_idx,\n",
    "        top_acts.strength,\n",
    "        tokens.token_idx as token_idx,\n",
    "        tokens.decoded_token\n",
    "    FROM\n",
    "        ds.tokens as tokens\n",
    "    join\n",
    "        top_acts on tokens.sequence_id = top_acts.sequence_id\n",
    "    where\n",
    "        abs(tokens.token_idx - top_acts.token_idx) <= {SEQUENCE_WINDOW//2}\n",
    ")\n",
    "\n",
    "SELECT\n",
    "    *\n",
    "FROM\n",
    "    subsequences\n",
    "\"\"\"\n",
    "\n",
    "results = run_query(query, conn)\n",
    "\n",
    "subsequences = {}\n",
    "\n",
    "for row in results:\n",
    "    feat_id = row[\"feature_id\"]\n",
    "    seq_id = row[\"sequence_id\"]\n",
    "\n",
    "    if subsequences.get(feat_id) is None:\n",
    "        subsequences[feat_id] = {}\n",
    "        subsequences[feat_id][\"label\"] = row[\"label\"]\n",
    "        subsequences[feat_id][\"subsequences\"] = {}\n",
    "\n",
    "    if subsequences[feat_id][\"subsequences\"].get(seq_id) is None:\n",
    "        subsequences[feat_id][\"subsequences\"][seq_id] = {}\n",
    "        subsequences[feat_id][\"subsequences\"][seq_id][\"top_idx\"] = row[\"top_act_token_idx\"]\n",
    "        subsequences[feat_id][\"subsequences\"][seq_id][\"top_strength\"] = row[\"strength\"]\n",
    "        subsequences[feat_id][\"subsequences\"][seq_id][\"tokens\"] = {}\n",
    "\n",
    "    subsequences[feat_id][\"subsequences\"][seq_id][\"tokens\"][row[\"token_idx\"]] = row[\"decoded_token\"]\n",
    "    \n",
    "\n",
    "for feat_id, feat_data in subsequences.items():\n",
    "    print(f'{feat_id}: {feat_data[\"label\"]}')\n",
    "\n",
    "    for seq_id, seq_data in feat_data[\"subsequences\"].items():\n",
    "        top_idx = seq_data[\"top_idx\"]\n",
    "        top_token = seq_data[\"tokens\"][top_idx]\n",
    "        top_strength = seq_data[\"top_strength\"]\n",
    "\n",
    "        ordered_tokens = sorted(seq_data[\"tokens\"].items(), key=lambda x: x[0])\n",
    "\n",
    "        before_top = [token[1] for token in ordered_tokens if token[0] < top_idx]\n",
    "        after_top = [token[1] for token in ordered_tokens if token[0] > top_idx]\n",
    "\n",
    "        subsequence = repr(''.join(before_top + [ \"<<\" + top_token + \">>\" ] + after_top))\n",
    "\n",
    "        print(f'  {top_strength} : {subsequence}')"
   ]
  }
 ],
 "metadata": {
  "kernelspec": {
   "display_name": ".venv",
   "language": "python",
   "name": "python3"
  },
  "language_info": {
   "codemirror_mode": {
    "name": "ipython",
    "version": 3
   },
   "file_extension": ".py",
   "mimetype": "text/x-python",
   "name": "python",
   "nbconvert_exporter": "python",
   "pygments_lexer": "ipython3",
   "version": "3.10.12"
  }
 },
 "nbformat": 4,
 "nbformat_minor": 2
}
